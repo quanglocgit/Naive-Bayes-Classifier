{
 "cells": [
  {
   "cell_type": "markdown",
   "id": "9e52b4b1",
   "metadata": {},
   "source": [
    "# Notebook Imports"
   ]
  },
  {
   "cell_type": "code",
   "execution_count": 56,
   "id": "cfbff168",
   "metadata": {},
   "outputs": [],
   "source": [
    "import pandas as pd\n",
    "import numpy as np\n",
    "import matplotlib.pyplot as plt\n",
    "import seaborn as sns\n",
    "\n",
    "%matplotlib inline"
   ]
  },
  {
   "cell_type": "markdown",
   "id": "91b70c8c",
   "metadata": {},
   "source": [
    "# Constants"
   ]
  },
  {
   "cell_type": "code",
   "execution_count": 57,
   "id": "42cd3415",
   "metadata": {},
   "outputs": [],
   "source": [
    "TOKEN_SPAM_PROB_FILE = 'C:/Users/95/MLProjects/06_Classifier/SpamData/03_Testing/prob-spam.txt'\n",
    "TOKEN_HAM_PROB_FILE = 'C:/Users/95/MLProjects/06_Classifier/SpamData/03_Testing/prob-nonspam.txt'\n",
    "TOKEN_ALL_PROB_FILE = 'C:/Users/95/MLProjects/06_Classifier/SpamData/03_Testing/prob-all-tokens.txt'\n",
    "\n",
    "TEST_FEATURE_MATRIX = 'C:/Users/95/MLProjects/06_Classifier/SpamData/03_Testing/test-features.txt'\n",
    "TEST_TARGET_FILE = 'C:/Users/95/MLProjects/06_Classifier/SpamData/03_Testing/test-target.txt'\n",
    "\n",
    "VOCAB_SIZE = 2500"
   ]
  },
  {
   "cell_type": "markdown",
   "id": "4acfc875",
   "metadata": {},
   "source": [
    "# Load the Data"
   ]
  },
  {
   "cell_type": "code",
   "execution_count": 58,
   "id": "3ac9d546",
   "metadata": {},
   "outputs": [],
   "source": [
    "# Features\n",
    "X_test = np.loadtxt(TEST_FEATURE_MATRIX, delimiter=' ')\n",
    "# Target\n",
    "y_test = np.loadtxt(TEST_TARGET_FILE, delimiter=' ')\n",
    "# Token Probabilities\n",
    "prob_token_spam = np.loadtxt(TOKEN_SPAM_PROB_FILE, delimiter=' ')\n",
    "prob_token_ham = np.loadtxt(TOKEN_HAM_PROB_FILE, delimiter=' ')\n",
    "prob_all_tokens = np.loadtxt(TOKEN_ALL_PROB_FILE, delimiter=' ')"
   ]
  },
  {
   "cell_type": "code",
   "execution_count": 59,
   "id": "5504b0ea",
   "metadata": {},
   "outputs": [
    {
     "data": {
      "text/plain": [
       "array([[0., 0., 1., ..., 0., 0., 0.],\n",
       "       [6., 1., 1., ..., 0., 0., 0.],\n",
       "       [0., 0., 1., ..., 0., 0., 0.],\n",
       "       [0., 2., 1., ..., 0., 0., 0.],\n",
       "       [0., 0., 0., ..., 0., 0., 0.]])"
      ]
     },
     "execution_count": 59,
     "metadata": {},
     "output_type": "execute_result"
    }
   ],
   "source": [
    "X_test[:5]"
   ]
  },
  {
   "cell_type": "code",
   "execution_count": 60,
   "id": "3c1cab66",
   "metadata": {},
   "outputs": [
    {
     "data": {
      "text/plain": [
       "(1724, 2500)"
      ]
     },
     "execution_count": 60,
     "metadata": {},
     "output_type": "execute_result"
    }
   ],
   "source": [
    "X_test.shape\n"
   ]
  },
  {
   "cell_type": "markdown",
   "id": "8147851c",
   "metadata": {},
   "source": [
    "# Calculating the Joint Probability\n",
    "\n",
    "### The Dot Product"
   ]
  },
  {
   "cell_type": "code",
   "execution_count": 61,
   "id": "88315041",
   "metadata": {},
   "outputs": [
    {
     "name": "stdout",
     "output_type": "stream",
     "text": [
      "a =  [[1 2 3]\n",
      " [0 5 4]]\n",
      "b =  [0 5 4]\n"
     ]
    }
   ],
   "source": [
    "a = np.array([[1, 2, 3],[0, 5, 4]])\n",
    "b = np.array([0, 5, 4])\n",
    "print('a = ', a)\n",
    "print('b = ', b)"
   ]
  },
  {
   "cell_type": "code",
   "execution_count": 62,
   "id": "8a612d95",
   "metadata": {},
   "outputs": [
    {
     "data": {
      "text/plain": [
       "array([22, 41])"
      ]
     },
     "execution_count": 62,
     "metadata": {},
     "output_type": "execute_result"
    }
   ],
   "source": [
    "adotb = a.dot(b)\n",
    "adotb"
   ]
  },
  {
   "cell_type": "code",
   "execution_count": 63,
   "id": "ddb6830d",
   "metadata": {},
   "outputs": [
    {
     "data": {
      "text/plain": [
       "array([[ 0, 10, 12],\n",
       "       [ 0, 25, 16]])"
      ]
     },
     "execution_count": 63,
     "metadata": {},
     "output_type": "execute_result"
    }
   ],
   "source": [
    "a*b"
   ]
  },
  {
   "cell_type": "code",
   "execution_count": 64,
   "id": "d25d2ec9",
   "metadata": {},
   "outputs": [
    {
     "data": {
      "text/plain": [
       "numpy.ndarray"
      ]
     },
     "execution_count": 64,
     "metadata": {},
     "output_type": "execute_result"
    }
   ],
   "source": [
    "type(adotb)"
   ]
  },
  {
   "cell_type": "code",
   "execution_count": 65,
   "id": "d43921b4",
   "metadata": {},
   "outputs": [
    {
     "data": {
      "text/plain": [
       "22"
      ]
     },
     "execution_count": 65,
     "metadata": {},
     "output_type": "execute_result"
    }
   ],
   "source": [
    "1*0 + 2*5 + 3*4"
   ]
  },
  {
   "cell_type": "code",
   "execution_count": 66,
   "id": "8127ad15",
   "metadata": {},
   "outputs": [
    {
     "name": "stdout",
     "output_type": "stream",
     "text": [
      "shape of c is (3, 2)\n",
      "[[0 6]\n",
      " [3 0]\n",
      " [5 1]]\n"
     ]
    }
   ],
   "source": [
    "c = np.array([[0, 6], [3, 0], [5, 1]])\n",
    "print('shape of c is', c.shape)\n",
    "print(c)"
   ]
  },
  {
   "cell_type": "code",
   "execution_count": 67,
   "id": "b052d66f",
   "metadata": {},
   "outputs": [
    {
     "name": "stdout",
     "output_type": "stream",
     "text": [
      "[[21  9]\n",
      " [35  4]]\n",
      "shape of the dot product is (2, 2)\n"
     ]
    }
   ],
   "source": [
    "print(a.dot(c))\n",
    "print('shape of the dot product is', a.dot(c).shape)"
   ]
  },
  {
   "cell_type": "code",
   "execution_count": 68,
   "id": "2ce4cfb5",
   "metadata": {},
   "outputs": [],
   "source": [
    "# print(c.dot(a))\n",
    "# print('shape of the dot product is', c.dot(a).shape)\n",
    "# geterror"
   ]
  },
  {
   "cell_type": "code",
   "execution_count": 69,
   "id": "85684d60",
   "metadata": {},
   "outputs": [
    {
     "data": {
      "text/plain": [
       "[21, 9]"
      ]
     },
     "execution_count": 69,
     "metadata": {},
     "output_type": "execute_result"
    }
   ],
   "source": [
    "[1*0 + 2*3 + 3*5, 1*6 + 2*0 + 3*1]"
   ]
  },
  {
   "cell_type": "code",
   "execution_count": 70,
   "id": "8aad9794",
   "metadata": {},
   "outputs": [
    {
     "data": {
      "text/plain": [
       "[45, 30]"
      ]
     },
     "execution_count": 70,
     "metadata": {},
     "output_type": "execute_result"
    }
   ],
   "source": [
    "[4*0 + 5*3 + 6*5, 4*6 + 5*0 + 6*1]"
   ]
  },
  {
   "cell_type": "markdown",
   "id": "aeab9150",
   "metadata": {},
   "source": [
    "Challenge: Can you figure out the dimensions of the dot product between X_test and prob_token_spam"
   ]
  },
  {
   "cell_type": "code",
   "execution_count": 71,
   "id": "b29a74e8",
   "metadata": {},
   "outputs": [
    {
     "data": {
      "text/plain": [
       "(1724, 2500)"
      ]
     },
     "execution_count": 71,
     "metadata": {},
     "output_type": "execute_result"
    }
   ],
   "source": [
    "X_test.shape"
   ]
  },
  {
   "cell_type": "code",
   "execution_count": 72,
   "id": "fad4a9e0",
   "metadata": {},
   "outputs": [
    {
     "data": {
      "text/plain": [
       "(2500,)"
      ]
     },
     "execution_count": 72,
     "metadata": {},
     "output_type": "execute_result"
    }
   ],
   "source": [
    "prob_token_spam.shape"
   ]
  },
  {
   "cell_type": "code",
   "execution_count": 73,
   "id": "845220cf",
   "metadata": {},
   "outputs": [
    {
     "data": {
      "text/plain": [
       "array([[0., 0., 1., ..., 0., 0., 0.],\n",
       "       [6., 1., 1., ..., 0., 0., 0.],\n",
       "       [0., 0., 1., ..., 0., 0., 0.],\n",
       "       ...,\n",
       "       [0., 4., 0., ..., 0., 0., 0.],\n",
       "       [2., 2., 0., ..., 0., 0., 0.],\n",
       "       [1., 9., 1., ..., 0., 0., 0.]])"
      ]
     },
     "execution_count": 73,
     "metadata": {},
     "output_type": "execute_result"
    }
   ],
   "source": [
    "X_test"
   ]
  },
  {
   "cell_type": "code",
   "execution_count": 74,
   "id": "12f467d1",
   "metadata": {},
   "outputs": [
    {
     "data": {
      "text/plain": [
       "array([0.01218455, 0.00522834, 0.00680523, 0.01130664, 0.00681642])"
      ]
     },
     "execution_count": 74,
     "metadata": {},
     "output_type": "execute_result"
    }
   ],
   "source": [
    "prob_token_spam[:5]"
   ]
  },
  {
   "cell_type": "code",
   "execution_count": 75,
   "id": "6293f825",
   "metadata": {},
   "outputs": [
    {
     "name": "stdout",
     "output_type": "stream",
     "text": [
      "shape of the dot product is  (1724,)\n"
     ]
    }
   ],
   "source": [
    "print('shape of the dot product is ', X_test.dot(prob_token_spam).shape)"
   ]
  },
  {
   "cell_type": "code",
   "execution_count": 76,
   "id": "ebf8d4a5",
   "metadata": {},
   "outputs": [
    {
     "data": {
      "text/plain": [
       "array([0.43074265, 0.14572255, 0.14634324, ..., 0.57102996, 0.09088367,\n",
       "       0.26089704])"
      ]
     },
     "execution_count": 76,
     "metadata": {},
     "output_type": "execute_result"
    }
   ],
   "source": [
    " X_test.dot(prob_token_spam)"
   ]
  },
  {
   "cell_type": "markdown",
   "id": "193745f7",
   "metadata": {},
   "source": [
    "## Set the Prior\n",
    "\n",
    "Calculate the log probability that the emails are non-spam given their tokens.\n",
    "\n",
    "$$P(Spam \\, | \\, X) = \\frac{P(X \\, | \\, Spam) \\, P(Spam)} {P(X)}$$"
   ]
  },
  {
   "cell_type": "code",
   "execution_count": 77,
   "id": "edfa31ce",
   "metadata": {},
   "outputs": [],
   "source": [
    "PROB_SPAM = 0.3116"
   ]
  },
  {
   "cell_type": "markdown",
   "id": "f97830b0",
   "metadata": {},
   "source": [
    "**Challenge**: Do you recall how to take the log of a numpy array? Calculate the log probabilities of the tokens given that the email was spam. This was stored in prob_token_spam."
   ]
  },
  {
   "cell_type": "code",
   "execution_count": 78,
   "id": "ac6dc087",
   "metadata": {},
   "outputs": [
    {
     "data": {
      "text/plain": [
       "(2500,)"
      ]
     },
     "execution_count": 78,
     "metadata": {},
     "output_type": "execute_result"
    }
   ],
   "source": [
    "np.log(prob_token_spam).shape"
   ]
  },
  {
   "cell_type": "code",
   "execution_count": 79,
   "id": "599542b4",
   "metadata": {},
   "outputs": [
    {
     "data": {
      "text/plain": [
       "(2500,)"
      ]
     },
     "execution_count": 79,
     "metadata": {},
     "output_type": "execute_result"
    }
   ],
   "source": [
    "np.log(prob_all_tokens).shape"
   ]
  },
  {
   "cell_type": "markdown",
   "id": "b3242eaf",
   "metadata": {},
   "source": [
    "## Joint probability in log format"
   ]
  },
  {
   "cell_type": "code",
   "execution_count": 80,
   "id": "5787bee2",
   "metadata": {},
   "outputs": [],
   "source": [
    "joint_log_spam = X_test.dot(np.log(prob_token_spam) - np.log(prob_all_tokens)) + np.log(PROB_SPAM)"
   ]
  },
  {
   "cell_type": "code",
   "execution_count": 81,
   "id": "9f5d494d",
   "metadata": {},
   "outputs": [
    {
     "data": {
      "text/plain": [
       "array([24.28419505,  2.16318536, 20.59364579, 17.75933651, 20.51513036])"
      ]
     },
     "execution_count": 81,
     "metadata": {},
     "output_type": "execute_result"
    }
   ],
   "source": [
    "joint_log_spam[:5]"
   ]
  },
  {
   "cell_type": "code",
   "execution_count": 82,
   "id": "2ef048b4",
   "metadata": {},
   "outputs": [
    {
     "data": {
      "text/plain": [
       "1724"
      ]
     },
     "execution_count": 82,
     "metadata": {},
     "output_type": "execute_result"
    }
   ],
   "source": [
    "joint_log_spam.size"
   ]
  },
  {
   "cell_type": "markdown",
   "id": "31b6b000",
   "metadata": {},
   "source": [
    "**Challenge**: Calculate the log probability that the emails are non-spam given their tokens. Store the result in a variable called joint_log_ham\n"
   ]
  },
  {
   "cell_type": "markdown",
   "id": "4bd109b7",
   "metadata": {},
   "source": [
    "$$P(Ham \\, | \\, X) = \\frac{P(X \\, | \\, Ham) \\, (1-P(Spam))} {P(X)}$$"
   ]
  },
  {
   "cell_type": "code",
   "execution_count": 83,
   "id": "d20d945a",
   "metadata": {},
   "outputs": [],
   "source": [
    "joint_log_ham = X_test.dot(np.log(prob_token_ham) - np.log(prob_all_tokens)) + np.log(1-PROB_SPAM)"
   ]
  },
  {
   "cell_type": "code",
   "execution_count": 84,
   "id": "4fd1445d",
   "metadata": {},
   "outputs": [
    {
     "data": {
      "text/plain": [
       "array([-60.97366094, -11.01152096, -37.9696997 , -59.13842683,\n",
       "       -53.79402537])"
      ]
     },
     "execution_count": 84,
     "metadata": {},
     "output_type": "execute_result"
    }
   ],
   "source": [
    "joint_log_ham[:5]"
   ]
  },
  {
   "cell_type": "code",
   "execution_count": 85,
   "id": "46420a34",
   "metadata": {},
   "outputs": [
    {
     "data": {
      "text/plain": [
       "1724"
      ]
     },
     "execution_count": 85,
     "metadata": {},
     "output_type": "execute_result"
    }
   ],
   "source": [
    "joint_log_ham.size"
   ]
  },
  {
   "cell_type": "markdown",
   "id": "63ed388b",
   "metadata": {},
   "source": [
    "# Making Predictions\n",
    "\n",
    "### Checking for the higher joint probability\n",
    "\n",
    "$$P(Spam \\, | \\, X) \\, > \\, P(Ham \\, | \\, X)$$\n",
    "<center>**OR**</center>\n",
    "<br>\n",
    "$$P(Spam \\, | \\, X) \\, < \\, P(Ham \\, | \\, X)$$"
   ]
  },
  {
   "cell_type": "markdown",
   "id": "8afce141",
   "metadata": {},
   "source": [
    "**Challenge**: Can you create the vector of predictions, our $\\hat y$ ? Remember that spam emails should have the value 1 (true) and non-spam emails should have the value 0 (false). Store your results in a variable called `prediction`."
   ]
  },
  {
   "cell_type": "code",
   "execution_count": 86,
   "id": "dd2f9e16",
   "metadata": {},
   "outputs": [],
   "source": [
    "prediction = joint_log_spam > joint_log_ham"
   ]
  },
  {
   "cell_type": "code",
   "execution_count": 87,
   "id": "f69a3905",
   "metadata": {},
   "outputs": [
    {
     "data": {
      "text/plain": [
       "array([ True, False, False, False, False])"
      ]
     },
     "execution_count": 87,
     "metadata": {},
     "output_type": "execute_result"
    }
   ],
   "source": [
    "prediction[-5:]"
   ]
  },
  {
   "cell_type": "code",
   "execution_count": 88,
   "id": "d85286db",
   "metadata": {},
   "outputs": [
    {
     "data": {
      "text/plain": [
       "array([1, 0, 0, 0, 0])"
      ]
     },
     "execution_count": 88,
     "metadata": {},
     "output_type": "execute_result"
    }
   ],
   "source": [
    "prediction[-5:]*1"
   ]
  },
  {
   "cell_type": "code",
   "execution_count": 89,
   "id": "ac910751",
   "metadata": {},
   "outputs": [
    {
     "data": {
      "text/plain": [
       "array([0., 0., 0., 0., 0.])"
      ]
     },
     "execution_count": 89,
     "metadata": {},
     "output_type": "execute_result"
    }
   ],
   "source": [
    "y_test[-5:]"
   ]
  },
  {
   "cell_type": "markdown",
   "id": "d05db620",
   "metadata": {},
   "source": [
    "### Simplify\n",
    "\n",
    "$$P(X \\, | \\, Spam) \\, P(Spam) ≠  \\frac{P(X \\, | \\, Spam) \\, P(Spam)}{P(X)}$$"
   ]
  },
  {
   "cell_type": "code",
   "execution_count": 90,
   "id": "5150b720",
   "metadata": {},
   "outputs": [],
   "source": [
    "joint_log_spam = X_test.dot(np.log(prob_token_spam)) + np.log(PROB_SPAM)\n",
    "joint_log_ham = X_test.dot(np.log(prob_token_ham)) + np.log(1-PROB_SPAM)"
   ]
  },
  {
   "cell_type": "markdown",
   "id": "5af8d0c5",
   "metadata": {},
   "source": [
    "# Metrics and Evaluation\n",
    "\n",
    "## Accuracy"
   ]
  },
  {
   "cell_type": "code",
   "execution_count": 91,
   "id": "7fae79d8",
   "metadata": {},
   "outputs": [
    {
     "data": {
      "text/plain": [
       "(1724,)"
      ]
     },
     "execution_count": 91,
     "metadata": {},
     "output_type": "execute_result"
    }
   ],
   "source": [
    "a = y_test == prediction\n",
    "a.shape"
   ]
  },
  {
   "cell_type": "code",
   "execution_count": 92,
   "id": "eaf4a964",
   "metadata": {},
   "outputs": [
    {
     "data": {
      "text/plain": [
       "1724"
      ]
     },
     "execution_count": 92,
     "metadata": {},
     "output_type": "execute_result"
    }
   ],
   "source": [
    "X_test.shape[0] "
   ]
  },
  {
   "cell_type": "code",
   "execution_count": 93,
   "id": "8cf2c57d",
   "metadata": {},
   "outputs": [
    {
     "name": "stdout",
     "output_type": "stream",
     "text": [
      "Docs classified correctly 1685\n"
     ]
    }
   ],
   "source": [
    "correct_docs = (y_test == prediction).sum()\n",
    "print('Docs classified correctly', correct_docs)"
   ]
  },
  {
   "cell_type": "code",
   "execution_count": 94,
   "id": "51422842",
   "metadata": {},
   "outputs": [
    {
     "name": "stdout",
     "output_type": "stream",
     "text": [
      "Docs classified incorrectly 39\n"
     ]
    }
   ],
   "source": [
    "numdocs_wrong = X_test.shape[0] - correct_docs\n",
    "print('Docs classified incorrectly', numdocs_wrong)"
   ]
  },
  {
   "cell_type": "markdown",
   "id": "6dfc2164",
   "metadata": {},
   "source": [
    "# Accuracy"
   ]
  },
  {
   "cell_type": "code",
   "execution_count": 95,
   "id": "af217dd9",
   "metadata": {},
   "outputs": [
    {
     "data": {
      "text/plain": [
       "0.9773781902552204"
      ]
     },
     "execution_count": 95,
     "metadata": {},
     "output_type": "execute_result"
    }
   ],
   "source": [
    "\n",
    "correct_docs/len(X_test)"
   ]
  },
  {
   "cell_type": "code",
   "execution_count": 96,
   "id": "7fb2171e",
   "metadata": {},
   "outputs": [
    {
     "name": "stdout",
     "output_type": "stream",
     "text": [
      "Fraction classified incorrectly is 2.26%\n",
      "Accuracy of the model is 97.74%\n"
     ]
    }
   ],
   "source": [
    "fraction_wrong = numdocs_wrong/len(X_test)\n",
    "print('Fraction classified incorrectly is {:.2%}'.format(fraction_wrong))\n",
    "print('Accuracy of the model is {:.2%}'.format(1-fraction_wrong))"
   ]
  },
  {
   "cell_type": "markdown",
   "id": "e233d4fc",
   "metadata": {},
   "source": [
    "## Visualising the Results"
   ]
  },
  {
   "cell_type": "code",
   "execution_count": 97,
   "id": "ed492ed7",
   "metadata": {},
   "outputs": [],
   "source": [
    "# Chart Styling Info\n",
    "yaxis_label = 'P(X | Spam)'\n",
    "xaxis_label = 'P(X | Nonspam)'\n",
    "\n",
    "linedata = np.linspace(start=-14000, stop=1, num=1000)"
   ]
  },
  {
   "cell_type": "code",
   "execution_count": 98,
   "id": "f40e855b",
   "metadata": {},
   "outputs": [
    {
     "data": {
      "image/png": "[encoded data removed]",
      "text/plain": [
       "<Figure size 792x504 with 1 Axes>"
      ]
     },
     "metadata": {
      "needs_background": "light"
     },
     "output_type": "display_data"
    }
   ],
   "source": [
    "plt.figure(figsize=(11, 7))\n",
    "plt.xlabel(xaxis_label, fontsize=14)\n",
    "plt.ylabel(yaxis_label, fontsize=14)\n",
    "\n",
    "# Set scale\n",
    "plt.xlim([-14000, 1])\n",
    "plt.ylim([-14000, 1])\n",
    "\n",
    "plt.scatter(joint_log_ham, joint_log_spam, color='navy')\n",
    "plt.show()"
   ]
  },
  {
   "cell_type": "markdown",
   "id": "2d6ddc74",
   "metadata": {},
   "source": [
    "## The Decision Boundary"
   ]
  },
  {
   "cell_type": "code",
   "execution_count": 99,
   "id": "6659f389",
   "metadata": {},
   "outputs": [
    {
     "data": {
      "image/png": "[encoded data removed]",
      "text/plain": [
       "<Figure size 792x504 with 1 Axes>"
      ]
     },
     "metadata": {
      "needs_background": "light"
     },
     "output_type": "display_data"
    }
   ],
   "source": [
    "plt.figure(figsize=(11, 7))\n",
    "plt.xlabel(xaxis_label, fontsize=14)\n",
    "plt.ylabel(yaxis_label, fontsize=14)\n",
    "\n",
    "# Set scale\n",
    "plt.xlim([-14000, 1])\n",
    "plt.ylim([-14000, 1])\n",
    "\n",
    "plt.scatter(joint_log_ham, joint_log_spam, color='navy', alpha=0.5, s=25)\n",
    "plt.plot(linedata, linedata, color='orange')\n",
    "\n",
    "plt.show()"
   ]
  },
  {
   "cell_type": "code",
   "execution_count": 100,
   "id": "2e47bf98",
   "metadata": {},
   "outputs": [
    {
     "data": {
      "image/png": "[encoded data removed]",
      "text/plain": [
       "<Figure size 1152x504 with 2 Axes>"
      ]
     },
     "metadata": {
      "needs_background": "light"
     },
     "output_type": "display_data"
    }
   ],
   "source": [
    "plt.figure(figsize=(16, 7))\n",
    "\n",
    "# Chart Nr 1:\n",
    "plt.subplot(1, 2, 1)\n",
    "\n",
    "plt.xlabel(xaxis_label, fontsize=14)\n",
    "plt.ylabel(yaxis_label, fontsize=14)\n",
    "\n",
    "# Set scale\n",
    "plt.xlim([-14000, 1])\n",
    "plt.ylim([-14000, 1])\n",
    "\n",
    "plt.scatter(joint_log_ham, joint_log_spam, color='navy', alpha=0.5, s=25)\n",
    "plt.plot(linedata, linedata, color='orange')\n",
    "\n",
    "# Chart Nr 2:\n",
    "plt.subplot(1, 2, 2)\n",
    "\n",
    "plt.xlabel(xaxis_label, fontsize=14)\n",
    "plt.ylabel(yaxis_label, fontsize=14)\n",
    "\n",
    "# Set scale\n",
    "plt.xlim([-2000, 1])\n",
    "plt.ylim([-2000, 1])\n",
    "\n",
    "plt.scatter(joint_log_ham, joint_log_spam, color='navy', alpha=0.5, s=3)\n",
    "plt.plot(linedata, linedata, color='orange')\n",
    "\n",
    "plt.show()"
   ]
  },
  {
   "cell_type": "code",
   "execution_count": 101,
   "id": "16e506e3",
   "metadata": {},
   "outputs": [],
   "source": [
    "# Use Seaborn Chart\n",
    "# Chart Styling\n",
    "sns.set_style('whitegrid')\n",
    "labels = 'Actual Category'\n",
    "\n",
    "summary_df = pd.DataFrame({yaxis_label: joint_log_spam, xaxis_label: joint_log_ham, \n",
    "                          labels: y_test})"
   ]
  },
  {
   "cell_type": "code",
   "execution_count": 102,
   "id": "c7915d1c",
   "metadata": {},
   "outputs": [
    {
     "name": "stderr",
     "output_type": "stream",
     "text": [
      "D:\\Data_Science_Machine_Learning\\Anaconda\\lib\\site-packages\\seaborn\\regression.py:581: UserWarning: The `size` parameter has been renamed to `height`; please update your code.\n",
      "  warnings.warn(msg, UserWarning)\n"
     ]
    },
    {
     "ename": "AttributeError",
     "evalue": "module 'seaborn' has no attribute 'plt'",
     "output_type": "error",
     "traceback": [
      "\u001b[1;31m---------------------------------------------------------------------------\u001b[0m",
      "\u001b[1;31mAttributeError\u001b[0m                            Traceback (most recent call last)",
      "\u001b[1;32m~\\AppData\\Local\\Temp/ipykernel_7064/1978917519.py\u001b[0m in \u001b[0;36m<module>\u001b[1;34m\u001b[0m\n\u001b[0;32m      7\u001b[0m \u001b[0mplt\u001b[0m\u001b[1;33m.\u001b[0m\u001b[0mplot\u001b[0m\u001b[1;33m(\u001b[0m\u001b[0mlinedata\u001b[0m\u001b[1;33m,\u001b[0m \u001b[0mlinedata\u001b[0m\u001b[1;33m,\u001b[0m \u001b[0mcolor\u001b[0m\u001b[1;33m=\u001b[0m\u001b[1;34m'black'\u001b[0m\u001b[1;33m)\u001b[0m\u001b[1;33m\u001b[0m\u001b[1;33m\u001b[0m\u001b[0m\n\u001b[0;32m      8\u001b[0m \u001b[1;33m\u001b[0m\u001b[0m\n\u001b[1;32m----> 9\u001b[1;33m \u001b[0msns\u001b[0m\u001b[1;33m.\u001b[0m\u001b[0mplt\u001b[0m\u001b[1;33m.\u001b[0m\u001b[0mshow\u001b[0m\u001b[1;33m(\u001b[0m\u001b[1;33m)\u001b[0m\u001b[1;33m\u001b[0m\u001b[1;33m\u001b[0m\u001b[0m\n\u001b[0m",
      "\u001b[1;31mAttributeError\u001b[0m: module 'seaborn' has no attribute 'plt'"
     ]
    },
    {
     "data": {
      "image/png": "[encoded data removed]",
      "text/plain": [
       "<Figure size 468x468 with 1 Axes>"
      ]
     },
     "metadata": {},
     "output_type": "display_data"
    }
   ],
   "source": [
    "sns.lmplot(x=xaxis_label, y=yaxis_label, data=summary_df, size=6.5, fit_reg=False,\n",
    "          scatter_kws={'alpha': 0.5, 's': 25})\n",
    "\n",
    "plt.xlim([-2000, 1])\n",
    "plt.ylim([-2000, 1])\n",
    "\n",
    "plt.plot(linedata, linedata, color='black')\n",
    "\n",
    "sns.plt.show()"
   ]
  },
  {
   "cell_type": "code",
   "execution_count": null,
   "id": "889c0d1d",
   "metadata": {},
   "outputs": [],
   "source": [
    "sns.lmplot(x=xaxis_label, y=yaxis_label, data=summary_df, size=6.5, fit_reg=False, legend=False,\n",
    "          scatter_kws={'alpha': 0.5, 's': 25}, hue=labels,  markers=['o', 'x'], palette='hls')\n",
    "\n",
    "plt.xlim([-2000, 1])\n",
    "plt.ylim([-2000, 1])\n",
    "\n",
    "plt.plot(linedata, linedata, color='black')\n",
    "\n",
    "plt.legend(('Decision Boundary', 'Nonspam', 'Spam'), loc='lower right', fontsize=14)\n",
    "\n",
    "sns.plt.show()"
   ]
  },
  {
   "cell_type": "code",
   "execution_count": null,
   "id": "f0696937",
   "metadata": {},
   "outputs": [],
   "source": [
    "my_colours = ['#4A71C0', '#AB3A2C']\n",
    "\n",
    "sns.lmplot(x=xaxis_label, y=yaxis_label, data=summary_df, size=6.5, fit_reg=False, legend=False,\n",
    "          scatter_kws={'alpha': 0.7, 's': 25}, hue=labels, markers=['o', 'x'], palette=my_colours)\n",
    "\n",
    "plt.xlim([-500, 1])\n",
    "plt.ylim([-500, 1])\n",
    "\n",
    "plt.plot(linedata, linedata, color='black')\n",
    "\n",
    "plt.legend(('Decision Boundary', 'Nonspam', 'Spam'), loc='lower right', fontsize=14)\n",
    "\n",
    "sns.plt.show()"
   ]
  },
  {
   "cell_type": "markdown",
   "id": "85cbf04e",
   "metadata": {},
   "source": [
    "### False Positives and False Negatives"
   ]
  },
  {
   "cell_type": "code",
   "execution_count": null,
   "id": "921cc600",
   "metadata": {},
   "outputs": [],
   "source": [
    "np.unique(prediction, return_counts=True)"
   ]
  },
  {
   "cell_type": "code",
   "execution_count": null,
   "id": "14df9195",
   "metadata": {},
   "outputs": [],
   "source": [
    "# we use & , we got a bitwise and operator, not &&-the boolean and operator  \n",
    "# alow us to make an lemnent buy element comparison\n",
    "true_pos = (y_test == 1) & (prediction == 1)\n",
    "true_pos"
   ]
  },
  {
   "cell_type": "code",
   "execution_count": null,
   "id": "1f3c28c5",
   "metadata": {},
   "outputs": [],
   "source": [
    "true_pos.sum()"
   ]
  },
  {
   "cell_type": "markdown",
   "id": "f90f3684",
   "metadata": {},
   "source": [
    "**Challenge:** Create a numpy array that measures the False Positives for each datapoint. Call this variable ```false_pos```. Then work out how many false positives there were. After you've done that, do the same for the false negatives. Store those in a variable called ```false_neg```"
   ]
  },
  {
   "cell_type": "code",
   "execution_count": null,
   "id": "5d66f5f5",
   "metadata": {},
   "outputs": [],
   "source": [
    "# a false positve\n",
    "# a false positve is a non spam message the ends up in the spam folder\n",
    "false_pos = (y_test == 0) & (prediction == 1)\n",
    "false_pos"
   ]
  },
  {
   "cell_type": "code",
   "execution_count": null,
   "id": "dab16122",
   "metadata": {},
   "outputs": [],
   "source": [
    "false_pos.sum()"
   ]
  },
  {
   "cell_type": "code",
   "execution_count": null,
   "id": "8c9d5d31",
   "metadata": {},
   "outputs": [],
   "source": [
    "# false negative\n",
    "# Our prediction was that it is a non spam email, the spammer got in to inbox\n",
    "false_neg = (y_test == 1) & (prediction == 0)\n",
    "false_neg"
   ]
  },
  {
   "cell_type": "code",
   "execution_count": null,
   "id": "5d2756ef",
   "metadata": {},
   "outputs": [],
   "source": [
    "false_neg.sum()"
   ]
  },
  {
   "cell_type": "markdown",
   "id": "09b43bb6",
   "metadata": {},
   "source": [
    "## Recall Score"
   ]
  },
  {
   "cell_type": "markdown",
   "id": "ef73b4e0",
   "metadata": {},
   "source": [
    "**Challenge:** Calculate the recall score. Store it in a variable called ```recall_score```. Print the value of the recall score as a percentage rounded to two decimal places."
   ]
  },
  {
   "cell_type": "code",
   "execution_count": null,
   "id": "e0ce0c8d",
   "metadata": {},
   "outputs": [],
   "source": [
    "recall_score = true_pos.sum() / (true_pos.sum() + false_neg.sum())\n",
    "print('Recall score is {:.2%}'.format(recall_score))"
   ]
  },
  {
   "cell_type": "markdown",
   "id": "5cd4e5ab",
   "metadata": {},
   "source": [
    "## Precision Score"
   ]
  },
  {
   "cell_type": "markdown",
   "id": "0c59d96b",
   "metadata": {},
   "source": [
    "**Challenge:** Calculate the precision of our naive bayes model. Store the result in a variable called ```precision_score```. Print out the precision as a decimal number rounded to three decimal places. "
   ]
  },
  {
   "cell_type": "code",
   "execution_count": null,
   "id": "a527f12e",
   "metadata": {},
   "outputs": [],
   "source": [
    "precision_score = true_pos.sum() / (true_pos.sum() + false_pos.sum())\n",
    "print('Precision score is {:.3}'.format(precision_score))"
   ]
  },
  {
   "cell_type": "markdown",
   "id": "a4000662",
   "metadata": {},
   "source": [
    "## F-Score or F1 Score"
   ]
  },
  {
   "cell_type": "code",
   "execution_count": null,
   "id": "bed3a21b",
   "metadata": {},
   "outputs": [],
   "source": [
    "f1_score = 2 * (precision_score * recall_score) / (precision_score + recall_score)\n",
    "print('F Score is {:.2}'.format(f1_score))"
   ]
  },
  {
   "cell_type": "code",
   "execution_count": null,
   "id": "e5b1855a",
   "metadata": {},
   "outputs": [],
   "source": []
  },
  {
   "cell_type": "code",
   "execution_count": null,
   "id": "84028bb6",
   "metadata": {},
   "outputs": [],
   "source": []
  },
  {
   "cell_type": "code",
   "execution_count": null,
   "id": "2393ece6",
   "metadata": {},
   "outputs": [],
   "source": []
  },
  {
   "cell_type": "code",
   "execution_count": null,
   "id": "9d501056",
   "metadata": {},
   "outputs": [],
   "source": []
  },
  {
   "cell_type": "code",
   "execution_count": null,
   "id": "979fbd06",
   "metadata": {},
   "outputs": [],
   "source": []
  },
  {
   "cell_type": "code",
   "execution_count": null,
   "id": "973bb30c",
   "metadata": {},
   "outputs": [],
   "source": []
  },
  {
   "cell_type": "code",
   "execution_count": null,
   "id": "b8d665c0",
   "metadata": {},
   "outputs": [],
   "source": []
  },
  {
   "cell_type": "code",
   "execution_count": null,
   "id": "7acfaa4f",
   "metadata": {},
   "outputs": [],
   "source": []
  },
  {
   "cell_type": "code",
   "execution_count": null,
   "id": "850590d9",
   "metadata": {},
   "outputs": [],
   "source": []
  },
  {
   "cell_type": "code",
   "execution_count": null,
   "id": "6bbc7847",
   "metadata": {},
   "outputs": [],
   "source": []
  },
  {
   "cell_type": "code",
   "execution_count": null,
   "id": "40f3d57d",
   "metadata": {},
   "outputs": [],
   "source": []
  },
  {
   "cell_type": "code",
   "execution_count": null,
   "id": "7bee926f",
   "metadata": {},
   "outputs": [],
   "source": []
  },
  {
   "cell_type": "code",
   "execution_count": null,
   "id": "f39bc05d",
   "metadata": {},
   "outputs": [],
   "source": []
  },
  {
   "cell_type": "code",
   "execution_count": null,
   "id": "65f03794",
   "metadata": {},
   "outputs": [],
   "source": []
  }
 ],
 "metadata": {
  "kernelspec": {
   "display_name": "Python 3 (ipykernel)",
   "language": "python",
   "name": "python3"
  },
  "language_info": {
   "codemirror_mode": {
    "name": "ipython",
    "version": 3
   },
   "file_extension": ".py",
   "mimetype": "text/x-python",
   "name": "python",
   "nbconvert_exporter": "python",
   "pygments_lexer": "ipython3",
   "version": "3.9.7"
  }
 },
 "nbformat": 4,
 "nbformat_minor": 5
}
